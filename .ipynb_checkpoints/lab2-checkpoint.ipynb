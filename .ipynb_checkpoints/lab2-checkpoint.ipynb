{
 "cells": [
  {
   "cell_type": "markdown",
   "metadata": {},
   "source": [
    "# INFO411 Lab 2 - Clustering"
   ]
  },
  {
   "cell_type": "markdown",
   "metadata": {},
   "source": [
    "## Outline"
   ]
  },
  {
   "cell_type": "markdown",
   "metadata": {},
   "source": [
    "From our last lab we had our first encounter with Numpy, which is a handy tool for us to manipulate vectors and matrices. In this lab, we continue with the exploration of Numpy, and Pyplot (for visualization), but the main objectives are:\n",
    "- Gain more understanding of k-means, EM and DBSCAN by working on some simple data sets\n",
    "- Get started with Sklearn, a machine learning package"
   ]
  },
  {
   "cell_type": "markdown",
   "metadata": {},
   "source": [
    "## Part 1"
   ]
  },
  {
   "cell_type": "markdown",
   "metadata": {},
   "source": [
    "We begin with the simple k-means demo written in NumPy. As usual we import the packages:"
   ]
  },
  {
   "cell_type": "code",
   "execution_count": 2,
   "metadata": {
    "collapsed": true
   },
   "outputs": [],
   "source": [
    "import numpy as np"
   ]
  },
  {
   "cell_type": "raw",
   "metadata": {},
   "source": [
    "Now we generate two 1-D random data blobs using normal distributions, each with 100 points (what are the centre values?). Note the 'spread' for both Gaussians is 1. "
   ]
  },
  {
   "cell_type": "code",
   "execution_count": 3,
   "metadata": {
    "collapsed": true
   },
   "outputs": [],
   "source": [
    "d1 = np.random.randn(100)+2\n",
    "d2 = np.random.randn(100)+8"
   ]
  },
  {
   "cell_type": "markdown",
   "metadata": {},
   "source": [
    "Now show them up on the screen. Note that for better visibility the array index is used for the x-axis. "
   ]
  },
  {
   "cell_type": "code",
   "execution_count": 4,
   "metadata": {},
   "outputs": [
    {
     "data": {
      "text/plain": [
       "[<matplotlib.lines.Line2D at 0x1108a8050>]"
      ]
     },
     "execution_count": 4,
     "metadata": {},
     "output_type": "execute_result"
    },
    {
     "data": {
      "image/png": "[encoded data removed]",
      "text/plain": [
       "<matplotlib.figure.Figure at 0x110815990>"
      ]
     },
     "metadata": {},
     "output_type": "display_data"
    }
   ],
   "source": [
    "## import the plotting package; use inline display\n",
    "import matplotlib.pyplot as plt\n",
    "%matplotlib inline\n",
    "## plot two subsets using different markers\n",
    "plt.plot(d1,'g+')\n",
    "plt.plot(d2,'bx')\n",
    "\n",
    "# the axis 0 - 100 is the array index"
   ]
  },
  {
   "cell_type": "markdown",
   "metadata": {},
   "source": [
    "Note for better visualization we \"expand\" the 1-D data for 2-D display using the array index for the x-axis.\n",
    "\n",
    "We then concatenate the two data clouds into one bigger array (with 200 points):"
   ]
  },
  {
   "cell_type": "code",
   "execution_count": 5,
   "metadata": {
    "collapsed": true
   },
   "outputs": [],
   "source": [
    "data=np.concatenate((d1,d2),axis=0)\n",
    "nrow=len(data)"
   ]
  },
  {
   "cell_type": "markdown",
   "metadata": {},
   "source": [
    "... and we shuffle the rows to get the data mixed up:"
   ]
  },
  {
   "cell_type": "code",
   "execution_count": 6,
   "metadata": {
    "collapsed": true
   },
   "outputs": [],
   "source": [
    "data=np.random.permutation(data)"
   ]
  },
  {
   "cell_type": "markdown",
   "metadata": {},
   "source": [
    "To do k-means clustering, now we randomly initialise the membership for Cluster 1 (and therefore for Cluster 2)"
   ]
  },
  {
   "cell_type": "code",
   "execution_count": 7,
   "metadata": {
    "collapsed": true
   },
   "outputs": [],
   "source": [
    "memb1=np.random.randint(0,2,nrow)\n",
    "memb2=1-memb1    # membership to Cluster 2"
   ]
  },
  {
   "cell_type": "markdown",
   "metadata": {},
   "source": [
    "Let the iterations begin: update centres; update membership; ... we run 20 iterations:"
   ]
  },
  {
   "cell_type": "code",
   "execution_count": 8,
   "metadata": {
    "collapsed": true
   },
   "outputs": [],
   "source": [
    "## Iterate for a number of times and see if convergence is reached. \n",
    "## c1 and c2 are the two cluster centres. \n",
    "## This updates the centres, then membership, and loops around\n",
    "for it in range(20):\n",
    "   c1=sum(data*memb1)/sum(memb1)\n",
    "   c2=sum(data*memb2)/sum(memb2)\n",
    "   # if distance to c1 is smaller it belongs to cluster 1, memb1=1; otherwise memb1=0\n",
    "   memb1=np.less(np.abs(data-c1), np.abs(data-c2)).astype(int)\n",
    "   memb2=1-memb1"
   ]
  },
  {
   "cell_type": "markdown",
   "metadata": {},
   "source": [
    "Now display the cluster centres:"
   ]
  },
  {
   "cell_type": "code",
   "execution_count": 9,
   "metadata": {},
   "outputs": [
    {
     "data": {
      "text/plain": [
       "[<matplotlib.lines.Line2D at 0x110aef650>]"
      ]
     },
     "execution_count": 9,
     "metadata": {},
     "output_type": "execute_result"
    },
    {
     "data": {
      "image/png": "[encoded data removed]",
      "text/plain": [
       "<matplotlib.figure.Figure at 0x1108f8790>"
      ]
     },
     "metadata": {},
     "output_type": "display_data"
    }
   ],
   "source": [
    "## Display the cluster centers\n",
    "plt.plot(d1,'g+')\n",
    "plt.plot(d2,'bx')\n",
    "plt.plot(nrow/4,c1,'r^')\n",
    "plt.plot(nrow/4,c2,'r^')"
   ]
  },
  {
   "cell_type": "markdown",
   "metadata": {},
   "source": [
    "Does the algorithm seem to work? Why?\n",
    "\n",
    "Your Answer: It seems worked. The centers are around at 2 and around at 8.\n"
   ]
  },
  {
   "cell_type": "markdown",
   "metadata": {},
   "source": [
    "**Task A**. Suppose there is an outlier data point, data[80]=200. Insert it, repeat the experiement above and comment on the results."
   ]
  },
  {
   "cell_type": "code",
   "execution_count": 30,
   "metadata": {},
   "outputs": [
    {
     "data": {
      "text/plain": [
       "[<matplotlib.lines.Line2D at 0x1052c3fd0>]"
      ]
     },
     "execution_count": 30,
     "metadata": {},
     "output_type": "execute_result"
    },
    {
     "data": {
      "image/png": "[encoded data removed]",
      "text/plain": [
       "<matplotlib.figure.Figure at 0x104f14b50>"
      ]
     },
     "metadata": {},
     "output_type": "display_data"
    }
   ],
   "source": [
    "# code for Task A ...\n",
    "data[80]=200\n",
    "\n",
    "for it in range(20):\n",
    "   c1=sum(data*memb1)/sum(memb1)\n",
    "   c2=sum(data*memb2)/sum(memb2)\n",
    "   # if distance to c1 is smaller it belongs to cluster 1, memb1=1; otherwise memb1=0\n",
    "   memb1=np.less(np.abs(data-c1), np.abs(data-c2)).astype(int)\n",
    "   memb2=1-memb1\n",
    "\n",
    "## Display the cluster centers\n",
    "plt.plot(d1,'g+')\n",
    "plt.plot(d2,'bx')\n",
    "plt.plot(nrow/4,c1,'r^')\n",
    "plt.plot(nrow/4,c2,'r^')"
   ]
  },
  {
   "cell_type": "markdown",
   "metadata": {},
   "source": [
    "Your comments: \n",
    "\n",
    "\n",
    "\n",
    "\n",
    "\n"
   ]
  },
  {
   "cell_type": "markdown",
   "metadata": {},
   "source": [
    "**Task A***. Use the fuzzy c-means scheme with r=2 to decide membership and repeat the experiment. Does it work better?"
   ]
  },
  {
   "cell_type": "code",
   "execution_count": null,
   "metadata": {
    "collapsed": true
   },
   "outputs": [],
   "source": [
    "# code for Task A* here... Run it."
   ]
  },
  {
   "cell_type": "markdown",
   "metadata": {},
   "source": [
    "Comments on the outcome:\n",
    "\n"
   ]
  },
  {
   "cell_type": "markdown",
   "metadata": {},
   "source": [
    "## Part 2"
   ]
  },
  {
   "cell_type": "markdown",
   "metadata": {},
   "source": [
    "We can extend the code and do the clustering using EM instead. Let's cleanse the outlier out first."
   ]
  },
  {
   "cell_type": "code",
   "execution_count": 1,
   "metadata": {},
   "outputs": [
    {
     "ename": "NameError",
     "evalue": "name 'np' is not defined",
     "output_type": "error",
     "traceback": [
      "\u001b[0;31m\u001b[0m",
      "\u001b[0;31mNameError\u001b[0mTraceback (most recent call last)",
      "\u001b[0;32m<ipython-input-1-0231a8d60f84>\u001b[0m in \u001b[0;36m<module>\u001b[0;34m()\u001b[0m\n\u001b[0;32m----> 1\u001b[0;31m \u001b[0mdata\u001b[0m\u001b[0;34m[\u001b[0m\u001b[0;36m80\u001b[0m\u001b[0;34m]\u001b[0m\u001b[0;34m=\u001b[0m\u001b[0mnp\u001b[0m\u001b[0;34m.\u001b[0m\u001b[0mrandom\u001b[0m\u001b[0;34m.\u001b[0m\u001b[0mrandn\u001b[0m\u001b[0;34m(\u001b[0m\u001b[0;34m)\u001b[0m\u001b[0;34m+\u001b[0m\u001b[0;36m2\u001b[0m\u001b[0;34m\u001b[0m\u001b[0m\n\u001b[0m",
      "\u001b[0;31mNameError\u001b[0m: name 'np' is not defined"
     ]
    }
   ],
   "source": [
    "data[80]=np.random.randn()+2"
   ]
  },
  {
   "cell_type": "code",
   "execution_count": null,
   "metadata": {
    "collapsed": true
   },
   "outputs": [],
   "source": [
    "## Try EM (simplified)\n",
    "## Random initialization again. Alternatively, k-means can be used.\n",
    "memb1=np.random.randint(0,2,nrow)\n",
    "memb2=1-memb1"
   ]
  },
  {
   "cell_type": "markdown",
   "metadata": {},
   "source": [
    "The following gives the iterations of a simplified EM process. First the two centres are updated using weighted average of members, then the variations. The memberships are then tuned as $e^-\\frac{(x-c)^2}{2s}$ and then normalized. This continues and after a number of iterations the outcome stablizes."
   ]
  },
  {
   "cell_type": "code",
   "execution_count": null,
   "metadata": {
    "collapsed": true
   },
   "outputs": [],
   "source": [
    "## now the iterations\n",
    "for it in range(50):\n",
    "    # update centres\n",
    "    c1=sum(memb1*data)/sum(memb1)\n",
    "    c2=sum(memb2*data)/sum(memb2)\n",
    "    # update 'spread' - the variations\n",
    "    s1=sum(memb1*(data-c1)**2)/sum(memb1)\n",
    "    s2=sum(memb2*(data-c2)**2)/sum(memb2)\n",
    "    # print the center and std\n",
    "    print 'it=',it,':', c1,'/',np.sqrt(s1),'||',c2,'/',np.sqrt(s2)\n",
    "    # re-calculate memberships using the center and std values\n",
    "    memb1=np.exp(-(data-c1)**2/s1/2)\n",
    "    memb2=np.exp(-(data-c2)**2/s2/2)\n",
    "    # normalise\n",
    "    memb1/=(memb1+memb2)\n",
    "    memb2/=(memb1+memb2)"
   ]
  },
  {
   "cell_type": "markdown",
   "metadata": {},
   "source": [
    "Run the code above a couple of times, and see whether it manages to calculate the centres and the spreads of the two Gaussians. Are the clusters correctly located?\n",
    "\n",
    "\n",
    "** Task B. **\n",
    "Now, let us take a look whether EM can model data \"clouds\" of different sizes. For this, comment off the random initialization again. Find the line with 'd2' assignment, and modify it into \"d2 = np.random.randn(100)*1.5+8\". This means the second cloud has now a bigger spread (stdev=1.5). Run the code to this line, and note what the result tells you about the Gaussian centres and their spreads. If the result is not quite right, try a few more runs.\n",
    "\n",
    "Then, reuse the code in Part A and conduct k-means clustering to *initialize* the cluster centers and then carry on with EM. Does this work better? "
   ]
  },
  {
   "cell_type": "code",
   "execution_count": null,
   "metadata": {
    "collapsed": true
   },
   "outputs": [],
   "source": [
    "## your code for Task B"
   ]
  },
  {
   "cell_type": "markdown",
   "metadata": {},
   "source": [
    "Your comments: ...\n",
    "\n",
    "\n"
   ]
  },
  {
   "cell_type": "markdown",
   "metadata": {},
   "source": [
    "## Part 3"
   ]
  },
  {
   "cell_type": "markdown",
   "metadata": {},
   "source": [
    "So far we have been working on 1-D data points. Let's add another dimension so that they can be properly displayed on the screen. The following k-means code, is good for general-purpose clustering - note there are quite a few changes made to the previous code, mainly to deal with arrays of higher dimensionality. The algorithm is simplified, without looking at stdev of the clusters. "
   ]
  },
  {
   "cell_type": "code",
   "execution_count": null,
   "metadata": {
    "collapsed": true
   },
   "outputs": [],
   "source": [
    "## generate two random data 'clouds' around [2,2] and [8,8], each with 100 points\n",
    "d1 = np.random.randn(100,2)+2\n",
    "d2 = np.random.randn(100,2)+5\n",
    "## show them up on the screen. \n",
    "plt.plot(d1[:,0],d1[:,1],'g+')\n",
    "plt.plot(d2[:,0],d2[:,1],'bx')\n",
    "plt.grid(b=True)"
   ]
  },
  {
   "cell_type": "markdown",
   "metadata": {},
   "source": [
    "Again, stack the two sets and shuffle it so it doesn't have any particular order."
   ]
  },
  {
   "cell_type": "code",
   "execution_count": null,
   "metadata": {
    "collapsed": true
   },
   "outputs": [],
   "source": [
    "## mix two data clouds into one array (200 points)\n",
    "data=np.vstack((d1,d2))\n",
    "data=np.random.permutation(data)\n",
    "nrow,ncol=data.shape"
   ]
  },
  {
   "cell_type": "markdown",
   "metadata": {},
   "source": [
    "We then define a random initialization function:"
   ]
  },
  {
   "cell_type": "code",
   "execution_count": null,
   "metadata": {
    "collapsed": true
   },
   "outputs": [],
   "source": [
    "def randInitWithData(data, k):\n",
    "    nrow,dim=data.shape\n",
    "    centres=np.zeros((k,dim))\n",
    "    for i in range(k):\n",
    "        centres[i]=data[np.random.randint(nrow)].copy()\n",
    "    return centres"
   ]
  },
  {
   "cell_type": "markdown",
   "metadata": {},
   "source": [
    "and test the function out with k=2:"
   ]
  },
  {
   "cell_type": "code",
   "execution_count": null,
   "metadata": {
    "collapsed": true
   },
   "outputs": [],
   "source": [
    "centres=randInitWithData(data,k=2)"
   ]
  },
  {
   "cell_type": "code",
   "execution_count": null,
   "metadata": {
    "collapsed": true
   },
   "outputs": [],
   "source": [
    "print centres      # Where are the initial centres?"
   ]
  },
  {
   "cell_type": "markdown",
   "metadata": {},
   "source": [
    "Now we define a function for going through an iteration of finding membership and update centres:"
   ]
  },
  {
   "cell_type": "code",
   "execution_count": null,
   "metadata": {
    "collapsed": true
   },
   "outputs": [],
   "source": [
    "def iterate(centres,data):\n",
    "    k,dim=centres.shape\n",
    "    nrow,dim=data.shape\n",
    "    ## Compute distances between centres and data points. \n",
    "    ## Start with the first centre and then stack the rest vertically\n",
    "    distances = np.sum((data-centres[0,:])**2,axis=1)\n",
    "    for j in range(k-1):\n",
    "        distances = np.vstack((distances, np.sum((data-centres[j+1,:])**2,axis=1)))\n",
    "        ## 'distances' is a 2D array: row for centres, column for data items\n",
    "        ## Identify the closest cluster for each data item\n",
    "        cluster = distances.argmin(axis=0)\n",
    "        ## Turn it into a single-column array\n",
    "        cluster = cluster.reshape((nrow,1))\n",
    "        ## Update the cluster centres as the mean of data items that are closest to them\n",
    "        for j in range(k):\n",
    "            thisCluster = np.where(cluster==j,1,0)      # decide membership\n",
    "            if np.sum(thisCluster)>0:\n",
    "                centres[j,:] = np.sum(data*thisCluster,axis=0)/np.sum(thisCluster)\n",
    "    return centres.copy()"
   ]
  },
  {
   "cell_type": "code",
   "execution_count": null,
   "metadata": {
    "collapsed": true
   },
   "outputs": [],
   "source": [
    "oldcentres=centres.copy()      # keep track of the old centres"
   ]
  },
  {
   "cell_type": "markdown",
   "metadata": {},
   "source": [
    "Now we call iteratre() a number of times and see if it converges:"
   ]
  },
  {
   "cell_type": "code",
   "execution_count": null,
   "metadata": {
    "collapsed": true
   },
   "outputs": [],
   "source": [
    "for i in range(10):\n",
    "    centres=iterate(centres,data)\n",
    "    print centres\n",
    "    print np.sum(np.abs(centres-oldcentres))    # calculate difference\n",
    "    oldcentres=centres.copy()"
   ]
  },
  {
   "cell_type": "markdown",
   "metadata": {},
   "source": [
    "Run the code. Do you think it manages to locate the cluster centers in the right places? \n",
    "\n",
    "You may want to write a few functions for the above k-means code to automatically stop iterations once convergence is reached.\n",
    "\n",
    "Let's show them up on the screen again:"
   ]
  },
  {
   "cell_type": "code",
   "execution_count": null,
   "metadata": {
    "collapsed": true
   },
   "outputs": [],
   "source": [
    "## show them up on the screen. \n",
    "plt.plot(d1[:,0],d1[:,1],'g+')\n",
    "plt.plot(d2[:,0],d2[:,1],'bx')\n",
    "plt.plot(centres[:,0],centres[:,1],'ro')"
   ]
  },
  {
   "cell_type": "markdown",
   "metadata": {},
   "source": [
    "## Part 4"
   ]
  },
  {
   "cell_type": "markdown",
   "metadata": {},
   "source": [
    "Let's experiment with another clustering algoithm and take a quick look of clustering evaluation. For this we turn to Scikit.learn, a package specialised for Machine Learning. First, some necessary imports:"
   ]
  },
  {
   "cell_type": "markdown",
   "metadata": {},
   "source": [
    "### DBSCAN"
   ]
  },
  {
   "cell_type": "code",
   "execution_count": null,
   "metadata": {
    "collapsed": true
   },
   "outputs": [],
   "source": [
    "import numpy as np\n",
    "from sklearn.cluster import DBSCAN\n",
    "from sklearn import metrics\n",
    "from sklearn.datasets.samples_generator import make_blobs\n",
    "from sklearn.preprocessing import StandardScaler"
   ]
  },
  {
   "cell_type": "markdown",
   "metadata": {},
   "source": [
    "We use sklearn's data generators to make three blobs:"
   ]
  },
  {
   "cell_type": "code",
   "execution_count": null,
   "metadata": {
    "collapsed": true
   },
   "outputs": [],
   "source": [
    "centers = [[1, 1], [-1, -1], [1, -1]]\n",
    "X, labels_true = make_blobs(n_samples=750, centers=centers, cluster_std=0.4,\n",
    "                            random_state=0)\n",
    "X = StandardScaler().fit_transform(X)"
   ]
  },
  {
   "cell_type": "markdown",
   "metadata": {},
   "source": [
    "Suppose we set Eps to 0.3, and the minimum number of neighbours needed for a data point to become core points is 10. The following cluster the dataset using DBSCAN, predict cluster labels for all data points, and mark out core points:"
   ]
  },
  {
   "cell_type": "code",
   "execution_count": null,
   "metadata": {
    "collapsed": true
   },
   "outputs": [],
   "source": [
    "db = DBSCAN(eps=0.3, min_samples=10).fit(X)\n",
    "labels = db.labels_\n",
    "core_samples_mask = np.zeros_like(db.labels_, dtype=bool)\n",
    "core_samples_mask[db.core_sample_indices_] = True"
   ]
  },
  {
   "cell_type": "markdown",
   "metadata": {},
   "source": [
    "The <code>fit()</code> function will learn from the data, and label all data points. Note  DBSCAN will mark out core points, border points, and noise points. Noise points are not clustered, so in sklearn's implementation it takes a label of -1 (while others take 0, 1, ...). The number of clusters can be found by:"
   ]
  },
  {
   "cell_type": "code",
   "execution_count": null,
   "metadata": {
    "collapsed": true
   },
   "outputs": [],
   "source": [
    "# Number of clusters in labels, ignoring noise if present.\n",
    "n_clusters_ = len(set(labels)) - (1 if -1 in labels else 0)\n",
    "print('Estimated number of clusters: %d' % n_clusters_)"
   ]
  },
  {
   "cell_type": "markdown",
   "metadata": {},
   "source": [
    "### Visualization"
   ]
  },
  {
   "cell_type": "markdown",
   "metadata": {},
   "source": [
    "Using the learning outcome, we can visualize the clustering results. The following code colours the data points according to their cluster IDs, with core points displayed by large markers. Noisy points are displayed in black:"
   ]
  },
  {
   "cell_type": "code",
   "execution_count": null,
   "metadata": {
    "collapsed": true
   },
   "outputs": [],
   "source": [
    "# Black removed and is used for noise instead.\n",
    "unique_labels = set(labels)\n",
    "colors = plt.cm.Spectral(np.linspace(0, 1, len(unique_labels)))\n",
    "for k, col in zip(unique_labels, colors):\n",
    "    if k == -1:\n",
    "        # Black used for noise.\n",
    "        col = 'k'\n",
    "\n",
    "    class_member_mask = (labels == k)\n",
    "\n",
    "    # plot core points \n",
    "    xy = X[class_member_mask & core_samples_mask]\n",
    "    plt.plot(xy[:, 0], xy[:, 1], 'o', markerfacecolor=col,\n",
    "             markeredgecolor='k', markersize=14)\n",
    "    # non-core points\n",
    "    xy = X[class_member_mask & ~core_samples_mask]\n",
    "    plt.plot(xy[:, 0], xy[:, 1], 'o', markerfacecolor=col,\n",
    "             markeredgecolor='k', markersize=6)\n",
    "\n",
    "plt.title('Estimated number of clusters: %d' % n_clusters_)"
   ]
  },
  {
   "cell_type": "markdown",
   "metadata": {},
   "source": [
    "See if you can tell the data point types apart: core points, border points, and noise points. "
   ]
  },
  {
   "cell_type": "markdown",
   "metadata": {},
   "source": [
    "### Evaluation"
   ]
  },
  {
   "cell_type": "markdown",
   "metadata": {},
   "source": [
    "To evaluate the clustering outcome, there are a number of indeces one can use. Here we take a quick look on Silhouette Score.\n",
    "\n",
    "For a data point with a cluster, its Silhouette Coefficient is decided by two scores:\n",
    "- a: The mean distance between a sample and all other points in the same cluster.\n",
    "- b: The mean distance between a sample and all other points in the next nearest cluster.\n",
    "The Silhouette Coefficient $s$ for the data point is then given as:\n",
    "$s = \\displaystyle\\frac{b - a}{max(a, b)}$"
   ]
  },
  {
   "cell_type": "markdown",
   "metadata": {},
   "source": [
    "The average Silhouette Coefficient of the overall clustering outcome is reported by:"
   ]
  },
  {
   "cell_type": "code",
   "execution_count": null,
   "metadata": {
    "collapsed": true
   },
   "outputs": [],
   "source": [
    "metrics.silhouette_score(X, labels, metric='euclidean')"
   ]
  },
  {
   "cell_type": "markdown",
   "metadata": {},
   "source": [
    "The score is bounded between -1 for incorrect clustering and +1 for highly dense clustering. Scores around zero indicate overlapping clusters."
   ]
  },
  {
   "cell_type": "markdown",
   "metadata": {},
   "source": [
    "**Task C**. Parameters play important part in clustering algorithms. How does the setting of Eps affect the clustering outcome? Print out the number of clusters found, and the Silhouette Score when eps takes value from this list: [0.1,0.15,0.2,0.25,0.3,0.35,0.4]."
   ]
  },
  {
   "cell_type": "code",
   "execution_count": null,
   "metadata": {
    "collapsed": true
   },
   "outputs": [],
   "source": [
    "# Your code here"
   ]
  },
  {
   "cell_type": "markdown",
   "metadata": {},
   "source": [
    "Comment on your findings: \n",
    "\n",
    "\n",
    "\n",
    "\n",
    "\n",
    "\n"
   ]
  },
  {
   "cell_type": "markdown",
   "metadata": {},
   "source": [
    "**Task D**. Use the Sklearn K-means function to redo the clustering with k=2, 3, 4, 5. Compare the outcomes of using two initialization schemes: plain random initialization, and k-means++. Report the Silhouette Scores.  "
   ]
  },
  {
   "cell_type": "code",
   "execution_count": null,
   "metadata": {
    "collapsed": true
   },
   "outputs": [],
   "source": [
    "# Your code"
   ]
  },
  {
   "cell_type": "markdown",
   "metadata": {},
   "source": [
    "Comment on your findings:\n"
   ]
  },
  {
   "cell_type": "markdown",
   "metadata": {},
   "source": [
    "END OF LAB 2."
   ]
  }
 ],
 "metadata": {
  "kernelspec": {
   "display_name": "Python 2",
   "language": "python",
   "name": "python2"
  },
  "language_info": {
   "codemirror_mode": {
    "name": "ipython",
    "version": 2
   },
   "file_extension": ".py",
   "mimetype": "text/x-python",
   "name": "python",
   "nbconvert_exporter": "python",
   "pygments_lexer": "ipython2",
   "version": "2.7.13"
  }
 },
 "nbformat": 4,
 "nbformat_minor": 1
}
